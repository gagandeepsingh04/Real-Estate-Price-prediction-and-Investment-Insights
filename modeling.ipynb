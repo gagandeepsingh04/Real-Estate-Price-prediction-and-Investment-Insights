{
 "cells": [
  {
   "cell_type": "code",
   "execution_count": null,
   "metadata": {},
   "outputs": [],
   "source": [
    "import pandas as pd \n",
    "import numpy as np \n",
    "import matplotlib.pyplot as plt \n",
    "import seaborn as sns\n",
    "from sklearn.model_selection import train_test_split\n",
    "from sklearn.linear_model import LinearRegression \n",
    "from sklearn.metrics import mean_absolute_error, mean_squared_error, r2_score\n",
    "from sklearn.preprocessing import PolynomialFeatures\n",
    "from sklearn.pipeline import make_pipeline\n",
    "from sklearn.pipeline import Pipeline\n",
    "from sklearn.linear_model import Ridge, Lasso, RidgeCV, LassoCV, ElasticNet, ElasticNetCV\n",
    "from sklearn.preprocessing import StandardScaler\n",
    "from sklearn.svm import SVR\n",
    "from sklearn.tree import DecisionTreeRegressor\n",
    "from sklearn.ensemble import RandomForestRegressor\n",
    "import xgboost as xgb\n",
    "from sklearn.model_selection import GridSearchCV"
   ]
  },
  {
   "cell_type": "code",
   "execution_count": 100,
   "metadata": {},
   "outputs": [],
   "source": [
    "def evaluation_with_rmse(y_test, y_pred):\n",
    "    mae = mean_absolute_error(y_test, y_pred)\n",
    "    rmse = np.sqrt(mean_squared_error(y_test, y_pred))\n",
    "    r2 = r2_score(y_test, y_pred)\n",
    "    \n",
    "    print(f\"Results:\\nMAE: {mae:.2f}, RMSE: {rmse:.2f}, R2 Score: {r2:.2f}\")"
   ]
  },
  {
   "cell_type": "code",
   "execution_count": null,
   "metadata": {},
   "outputs": [],
   "source": [
    "def evaluation_with_mse(y_test, y_pred):\n",
    "    mae = mean_absolute_error(y_test, y_pred)\n",
    "    mse = mean_squared_error(y_test, y_pred)\n",
    "    r2 = r2_score(y_test, y_pred)\n",
    "    \n",
    "    print(f\"Results:\\nMAE: {mae:.2f}, MSE: {mse:.2f}, R2 Score: {r2:.2f}\")"
   ]
  },
  {
   "cell_type": "code",
   "execution_count": 102,
   "metadata": {},
   "outputs": [],
   "source": [
    "pd.set_option('display.max_columns',None)"
   ]
  },
  {
   "cell_type": "code",
   "execution_count": 103,
   "metadata": {},
   "outputs": [
    {
     "data": {
      "text/html": [
       "<div>\n",
       "<style scoped>\n",
       "    .dataframe tbody tr th:only-of-type {\n",
       "        vertical-align: middle;\n",
       "    }\n",
       "\n",
       "    .dataframe tbody tr th {\n",
       "        vertical-align: top;\n",
       "    }\n",
       "\n",
       "    .dataframe thead th {\n",
       "        text-align: right;\n",
       "    }\n",
       "</style>\n",
       "<table border=\"1\" class=\"dataframe\">\n",
       "  <thead>\n",
       "    <tr style=\"text-align: right;\">\n",
       "      <th></th>\n",
       "      <th>Unnamed: 0</th>\n",
       "      <th>id</th>\n",
       "      <th>No of bedrooms</th>\n",
       "      <th>No of bathrooms</th>\n",
       "      <th>living area</th>\n",
       "      <th>lot area</th>\n",
       "      <th>No of floors</th>\n",
       "      <th>waterfront present</th>\n",
       "      <th>No of views</th>\n",
       "      <th>house condition(from 5)</th>\n",
       "      <th>house grade</th>\n",
       "      <th>house area(excluding basement)</th>\n",
       "      <th>Area of the basement</th>\n",
       "      <th>Built Year</th>\n",
       "      <th>Renovation Year</th>\n",
       "      <th>Postal Code</th>\n",
       "      <th>Lattitude</th>\n",
       "      <th>Longitude</th>\n",
       "      <th>living_area_renov</th>\n",
       "      <th>lot_area_renov</th>\n",
       "      <th>No of schools nearby</th>\n",
       "      <th>Distance from the airport</th>\n",
       "      <th>Price</th>\n",
       "      <th>date</th>\n",
       "    </tr>\n",
       "  </thead>\n",
       "  <tbody>\n",
       "    <tr>\n",
       "      <th>0</th>\n",
       "      <td>0</td>\n",
       "      <td>6762810635</td>\n",
       "      <td>4</td>\n",
       "      <td>2.50</td>\n",
       "      <td>2920</td>\n",
       "      <td>4000</td>\n",
       "      <td>1.5</td>\n",
       "      <td>0</td>\n",
       "      <td>0</td>\n",
       "      <td>5</td>\n",
       "      <td>8</td>\n",
       "      <td>1910</td>\n",
       "      <td>1010</td>\n",
       "      <td>1909</td>\n",
       "      <td>0</td>\n",
       "      <td>122004</td>\n",
       "      <td>52.8878</td>\n",
       "      <td>-114.470</td>\n",
       "      <td>2470</td>\n",
       "      <td>4000</td>\n",
       "      <td>2</td>\n",
       "      <td>51</td>\n",
       "      <td>1400000</td>\n",
       "      <td>5</td>\n",
       "    </tr>\n",
       "    <tr>\n",
       "      <th>1</th>\n",
       "      <td>1</td>\n",
       "      <td>6762810998</td>\n",
       "      <td>5</td>\n",
       "      <td>2.75</td>\n",
       "      <td>2910</td>\n",
       "      <td>9480</td>\n",
       "      <td>1.5</td>\n",
       "      <td>0</td>\n",
       "      <td>0</td>\n",
       "      <td>3</td>\n",
       "      <td>8</td>\n",
       "      <td>2910</td>\n",
       "      <td>0</td>\n",
       "      <td>1939</td>\n",
       "      <td>0</td>\n",
       "      <td>122004</td>\n",
       "      <td>52.8852</td>\n",
       "      <td>-114.468</td>\n",
       "      <td>2940</td>\n",
       "      <td>6600</td>\n",
       "      <td>1</td>\n",
       "      <td>53</td>\n",
       "      <td>1200000</td>\n",
       "      <td>5</td>\n",
       "    </tr>\n",
       "    <tr>\n",
       "      <th>2</th>\n",
       "      <td>2</td>\n",
       "      <td>6762812605</td>\n",
       "      <td>4</td>\n",
       "      <td>2.50</td>\n",
       "      <td>3310</td>\n",
       "      <td>42998</td>\n",
       "      <td>2.0</td>\n",
       "      <td>0</td>\n",
       "      <td>0</td>\n",
       "      <td>3</td>\n",
       "      <td>9</td>\n",
       "      <td>3310</td>\n",
       "      <td>0</td>\n",
       "      <td>2001</td>\n",
       "      <td>0</td>\n",
       "      <td>122005</td>\n",
       "      <td>52.9532</td>\n",
       "      <td>-114.321</td>\n",
       "      <td>3350</td>\n",
       "      <td>42847</td>\n",
       "      <td>3</td>\n",
       "      <td>76</td>\n",
       "      <td>838000</td>\n",
       "      <td>5</td>\n",
       "    </tr>\n",
       "    <tr>\n",
       "      <th>3</th>\n",
       "      <td>3</td>\n",
       "      <td>6762812919</td>\n",
       "      <td>3</td>\n",
       "      <td>2.00</td>\n",
       "      <td>2710</td>\n",
       "      <td>4500</td>\n",
       "      <td>1.5</td>\n",
       "      <td>0</td>\n",
       "      <td>0</td>\n",
       "      <td>4</td>\n",
       "      <td>8</td>\n",
       "      <td>1880</td>\n",
       "      <td>830</td>\n",
       "      <td>1929</td>\n",
       "      <td>0</td>\n",
       "      <td>122006</td>\n",
       "      <td>52.9047</td>\n",
       "      <td>-114.485</td>\n",
       "      <td>2060</td>\n",
       "      <td>4500</td>\n",
       "      <td>1</td>\n",
       "      <td>51</td>\n",
       "      <td>805000</td>\n",
       "      <td>5</td>\n",
       "    </tr>\n",
       "    <tr>\n",
       "      <th>4</th>\n",
       "      <td>4</td>\n",
       "      <td>6762813105</td>\n",
       "      <td>3</td>\n",
       "      <td>2.50</td>\n",
       "      <td>2600</td>\n",
       "      <td>4750</td>\n",
       "      <td>1.0</td>\n",
       "      <td>0</td>\n",
       "      <td>0</td>\n",
       "      <td>4</td>\n",
       "      <td>9</td>\n",
       "      <td>1700</td>\n",
       "      <td>900</td>\n",
       "      <td>1951</td>\n",
       "      <td>0</td>\n",
       "      <td>122007</td>\n",
       "      <td>52.9133</td>\n",
       "      <td>-114.590</td>\n",
       "      <td>2380</td>\n",
       "      <td>4750</td>\n",
       "      <td>1</td>\n",
       "      <td>67</td>\n",
       "      <td>790000</td>\n",
       "      <td>5</td>\n",
       "    </tr>\n",
       "  </tbody>\n",
       "</table>\n",
       "</div>"
      ],
      "text/plain": [
       "   Unnamed: 0          id  No of bedrooms  No of bathrooms  living area  \\\n",
       "0           0  6762810635               4             2.50         2920   \n",
       "1           1  6762810998               5             2.75         2910   \n",
       "2           2  6762812605               4             2.50         3310   \n",
       "3           3  6762812919               3             2.00         2710   \n",
       "4           4  6762813105               3             2.50         2600   \n",
       "\n",
       "   lot area  No of floors  waterfront present  No of views  \\\n",
       "0      4000           1.5                   0            0   \n",
       "1      9480           1.5                   0            0   \n",
       "2     42998           2.0                   0            0   \n",
       "3      4500           1.5                   0            0   \n",
       "4      4750           1.0                   0            0   \n",
       "\n",
       "   house condition(from 5)  house grade  house area(excluding basement)  \\\n",
       "0                        5            8                            1910   \n",
       "1                        3            8                            2910   \n",
       "2                        3            9                            3310   \n",
       "3                        4            8                            1880   \n",
       "4                        4            9                            1700   \n",
       "\n",
       "   Area of the basement  Built Year  Renovation Year  Postal Code  Lattitude  \\\n",
       "0                  1010        1909                0       122004    52.8878   \n",
       "1                     0        1939                0       122004    52.8852   \n",
       "2                     0        2001                0       122005    52.9532   \n",
       "3                   830        1929                0       122006    52.9047   \n",
       "4                   900        1951                0       122007    52.9133   \n",
       "\n",
       "   Longitude  living_area_renov  lot_area_renov  No of schools nearby  \\\n",
       "0   -114.470               2470            4000                     2   \n",
       "1   -114.468               2940            6600                     1   \n",
       "2   -114.321               3350           42847                     3   \n",
       "3   -114.485               2060            4500                     1   \n",
       "4   -114.590               2380            4750                     1   \n",
       "\n",
       "   Distance from the airport    Price  date  \n",
       "0                         51  1400000     5  \n",
       "1                         53  1200000     5  \n",
       "2                         76   838000     5  \n",
       "3                         51   805000     5  \n",
       "4                         67   790000     5  "
      ]
     },
     "execution_count": 103,
     "metadata": {},
     "output_type": "execute_result"
    }
   ],
   "source": [
    "df=pd.read_csv('cleaned data.csv')\n",
    "df.head()"
   ]
  },
  {
   "cell_type": "code",
   "execution_count": 104,
   "metadata": {},
   "outputs": [
    {
     "name": "stdout",
     "output_type": "stream",
     "text": [
      "<class 'pandas.core.frame.DataFrame'>\n",
      "RangeIndex: 14619 entries, 0 to 14618\n",
      "Data columns (total 24 columns):\n",
      " #   Column                          Non-Null Count  Dtype  \n",
      "---  ------                          --------------  -----  \n",
      " 0   Unnamed: 0                      14619 non-null  int64  \n",
      " 1   id                              14619 non-null  int64  \n",
      " 2   No of bedrooms                  14619 non-null  int64  \n",
      " 3   No of bathrooms                 14619 non-null  float64\n",
      " 4   living area                     14619 non-null  int64  \n",
      " 5   lot area                        14619 non-null  int64  \n",
      " 6   No of floors                    14619 non-null  float64\n",
      " 7   waterfront present              14619 non-null  int64  \n",
      " 8   No of views                     14619 non-null  int64  \n",
      " 9   house condition(from 5)         14619 non-null  int64  \n",
      " 10  house grade                     14619 non-null  int64  \n",
      " 11  house area(excluding basement)  14619 non-null  int64  \n",
      " 12  Area of the basement            14619 non-null  int64  \n",
      " 13  Built Year                      14619 non-null  int64  \n",
      " 14  Renovation Year                 14619 non-null  int64  \n",
      " 15  Postal Code                     14619 non-null  int64  \n",
      " 16  Lattitude                       14619 non-null  float64\n",
      " 17  Longitude                       14619 non-null  float64\n",
      " 18  living_area_renov               14619 non-null  int64  \n",
      " 19  lot_area_renov                  14619 non-null  int64  \n",
      " 20  No of schools nearby            14619 non-null  int64  \n",
      " 21  Distance from the airport       14619 non-null  int64  \n",
      " 22  Price                           14619 non-null  int64  \n",
      " 23  date                            14619 non-null  int64  \n",
      "dtypes: float64(4), int64(20)\n",
      "memory usage: 2.7 MB\n"
     ]
    }
   ],
   "source": [
    "df.info()"
   ]
  },
  {
   "cell_type": "code",
   "execution_count": 105,
   "metadata": {},
   "outputs": [
    {
     "name": "stdout",
     "output_type": "stream",
     "text": [
      "<class 'pandas.core.frame.DataFrame'>\n",
      "RangeIndex: 14619 entries, 0 to 14618\n",
      "Data columns (total 19 columns):\n",
      " #   Column                          Non-Null Count  Dtype  \n",
      "---  ------                          --------------  -----  \n",
      " 0   No of bathrooms                 14619 non-null  float64\n",
      " 1   No of bedrooms                  14619 non-null  int64  \n",
      " 2   living area                     14619 non-null  int64  \n",
      " 3   lot area                        14619 non-null  int64  \n",
      " 4   No of floors                    14619 non-null  float64\n",
      " 5   waterfront present              14619 non-null  int64  \n",
      " 6   house condition(from 5)         14619 non-null  int64  \n",
      " 7   house grade                     14619 non-null  int64  \n",
      " 8   house area(excluding basement)  14619 non-null  int64  \n",
      " 9   Area of the basement            14619 non-null  int64  \n",
      " 10  Built Year                      14619 non-null  int64  \n",
      " 11  Renovation Year                 14619 non-null  int64  \n",
      " 12  Postal Code                     14619 non-null  int64  \n",
      " 13  living_area_renov               14619 non-null  int64  \n",
      " 14  lot_area_renov                  14619 non-null  int64  \n",
      " 15  No of schools nearby            14619 non-null  int64  \n",
      " 16  Distance from the airport       14619 non-null  int64  \n",
      " 17  date                            14619 non-null  int64  \n",
      " 18  Price                           14619 non-null  int64  \n",
      "dtypes: float64(2), int64(17)\n",
      "memory usage: 2.1 MB\n"
     ]
    }
   ],
   "source": [
    "df=df[['No of bathrooms', 'No of bedrooms', 'living area', 'lot area', 'No of floors', 'waterfront present', 'house condition(from 5)', 'house grade','house area(excluding basement)', 'Area of the basement', 'Built Year','Renovation Year', 'Postal Code','living_area_renov', 'lot_area_renov', 'No of schools nearby','Distance from the airport', 'date', 'Price']]\n",
    "df.info()"
   ]
  },
  {
   "cell_type": "code",
   "execution_count": null,
   "metadata": {},
   "outputs": [],
   "source": [
    "X= df.drop(columns=['Price'])\n",
    "y= df['Price']\n",
    "    \n",
    "X_train, X_test, y_train, y_test = train_test_split(X, y, test_size=0.2, random_state=42)"
   ]
  },
  {
   "cell_type": "code",
   "execution_count": 107,
   "metadata": {},
   "outputs": [
    {
     "name": "stdout",
     "output_type": "stream",
     "text": [
      "Results:\n",
      "MAE: 138237.90, RMSE: 223116.08, R2 Score: 0.66\n"
     ]
    }
   ],
   "source": [
    "mlr=LinearRegression()\n",
    "mlr.fit(X_train, y_train)\n",
    "y_pred=mlr.predict(X_test)\n",
    "\n",
    "evaluation_with_rmse(y_test, y_pred)"
   ]
  },
  {
   "cell_type": "code",
   "execution_count": 108,
   "metadata": {},
   "outputs": [
    {
     "name": "stdout",
     "output_type": "stream",
     "text": [
      "Results:\n",
      "MAE: 121934.94, RMSE: 187915.35, R2 Score: 0.76\n"
     ]
    }
   ],
   "source": [
    "poly = PolynomialFeatures(degree=2)\n",
    "X_train_poly = poly.fit_transform(X_train)\n",
    "X_test_poly = poly.transform(X_test)\n",
    "\n",
    "model = LinearRegression()\n",
    "model.fit(X_train_poly, y_train)\n",
    "\n",
    "y_pred = model.predict(X_test_poly)\n",
    "\n",
    "evaluation_with_rmse(y_test, y_pred)"
   ]
  },
  {
   "cell_type": "code",
   "execution_count": 109,
   "metadata": {},
   "outputs": [
    {
     "name": "stdout",
     "output_type": "stream",
     "text": [
      "Results:\n",
      "MAE: 121934.94, RMSE: 187915.35, R2 Score: 0.76\n"
     ]
    }
   ],
   "source": [
    "ridge_reg = Ridge()\n",
    "ridge_reg.fit(X_train, y_train)\n",
    "y_pred_rig = ridge_reg.predict(X_test)\n",
    "\n",
    "evaluation_with_rmse(y_test, y_pred)"
   ]
  },
  {
   "cell_type": "code",
   "execution_count": 110,
   "metadata": {},
   "outputs": [
    {
     "name": "stdout",
     "output_type": "stream",
     "text": [
      "Results:\n",
      "MAE: 121934.94, RMSE: 187915.35, R2 Score: 0.76\n"
     ]
    },
    {
     "name": "stderr",
     "output_type": "stream",
     "text": [
      "d:\\Data Science\\Projects\\Real Estate Price Prediction & Invenstment Insigths\\venv\\lib\\site-packages\\sklearn\\linear_model\\_coordinate_descent.py:695: ConvergenceWarning: Objective did not converge. You might want to increase the number of iterations, check the scale of the features or consider increasing regularisation. Duality gap: 2.382e+14, tolerance: 1.539e+11\n",
      "  model = cd_fast.enet_coordinate_descent(\n"
     ]
    }
   ],
   "source": [
    "ridge_reg = Lasso()\n",
    "ridge_reg.fit(X_train, y_train)\n",
    "y_pred_rig = ridge_reg.predict(X_test)\n",
    "\n",
    "mae = mean_absolute_error(y_test, y_pred)\n",
    "rmse = np.sqrt(mean_squared_error(y_test, y_pred))\n",
    "r2 = r2_score(y_test, y_pred)\n",
    "\n",
    "evaluation_with_rmse(y_test, y_pred)"
   ]
  },
  {
   "cell_type": "code",
   "execution_count": 111,
   "metadata": {},
   "outputs": [
    {
     "name": "stdout",
     "output_type": "stream",
     "text": [
      "Results:\n",
      "MAE: 121934.94, RMSE: 187915.35, R2 Score: 0.76\n"
     ]
    },
    {
     "name": "stderr",
     "output_type": "stream",
     "text": [
      "d:\\Data Science\\Projects\\Real Estate Price Prediction & Invenstment Insigths\\venv\\lib\\site-packages\\sklearn\\linear_model\\_coordinate_descent.py:695: ConvergenceWarning: Objective did not converge. You might want to increase the number of iterations, check the scale of the features or consider increasing regularisation. Duality gap: 3.135e+14, tolerance: 1.539e+11\n",
      "  model = cd_fast.enet_coordinate_descent(\n"
     ]
    }
   ],
   "source": [
    "ridge_reg = ElasticNet()\n",
    "ridge_reg.fit(X_train, y_train)\n",
    "y_pred_rig = ridge_reg.predict(X_test)\n",
    "\n",
    "evaluation_with_rmse(y_test, y_pred)"
   ]
  },
  {
   "cell_type": "code",
   "execution_count": 112,
   "metadata": {},
   "outputs": [
    {
     "name": "stdout",
     "output_type": "stream",
     "text": [
      "Results:\n",
      "MAE: 121934.94, RMSE: 187915.35, R2 Score: 0.76\n"
     ]
    }
   ],
   "source": [
    "svr = SVR()\n",
    "svr.fit(X_train, y_train)\n",
    "y_pred_svr = svr.predict(X_test)\n",
    "\n",
    "evaluation_with_rmse(y_test, y_pred)"
   ]
  },
  {
   "cell_type": "code",
   "execution_count": 113,
   "metadata": {},
   "outputs": [
    {
     "name": "stdout",
     "output_type": "stream",
     "text": [
      "Results:\n",
      "MAE: 124645.70, RMSE: 230154.13, R2 Score: 0.64\n"
     ]
    }
   ],
   "source": [
    "dt_reg = DecisionTreeRegressor()\n",
    "dt_reg.fit(X_train, y_train)\n",
    "y_pred = dt_reg.predict(X_test)\n",
    "\n",
    "evaluation_with_rmse(y_test, y_pred)"
   ]
  },
  {
   "cell_type": "code",
   "execution_count": 114,
   "metadata": {},
   "outputs": [
    {
     "name": "stdout",
     "output_type": "stream",
     "text": [
      "Results:\n",
      "MAE: 89455.52, RMSE: 162494.72, R2 Score: 0.82\n"
     ]
    }
   ],
   "source": [
    "rf_reg = RandomForestRegressor()\n",
    "rf_reg.fit(X_train, y_train)\n",
    "y_pred = rf_reg.predict(X_test)\n",
    "\n",
    "evaluation_with_rmse(y_test, y_pred)"
   ]
  },
  {
   "cell_type": "code",
   "execution_count": 115,
   "metadata": {},
   "outputs": [
    {
     "name": "stdout",
     "output_type": "stream",
     "text": [
      "Results:\n",
      "MAE: 81604.23, RMSE: 149457.82, R2 Score: 0.85\n"
     ]
    }
   ],
   "source": [
    "xgb_reg = xgb.XGBRegressor()\n",
    "xgb_reg.fit(X_train, y_train)\n",
    "y_pred = xgb_reg.predict(X_test)\n",
    "\n",
    "evaluation_with_rmse(y_test, y_pred)"
   ]
  },
  {
   "cell_type": "code",
   "execution_count": 116,
   "metadata": {},
   "outputs": [
    {
     "name": "stdout",
     "output_type": "stream",
     "text": [
      "Fitting 5 folds for each of 108 candidates, totalling 540 fits\n",
      "Best Parameters: {'learning_rate': 0.2, 'max_depth': 5, 'n_estimators': 200, 'subsample': 1.0}\n"
     ]
    }
   ],
   "source": [
    "from sklearn.model_selection import GridSearchCV\n",
    "\n",
    "param_grid = {\n",
    "    'learning_rate': [0.01, 0.05, 0.1, 0.2],\n",
    "    'n_estimators': [50, 100, 200],\n",
    "    'max_depth': [3, 5, 7],\n",
    "    'subsample': [0.7, 0.9, 1.0]\n",
    "}\n",
    "\n",
    "xgb_reg = xgb.XGBRegressor(objective=\"reg:squarederror\", random_state=42)\n",
    "\n",
    "grid_search = GridSearchCV(xgb_reg, param_grid, scoring='neg_mean_squared_error', cv=5, verbose=1)\n",
    "grid_search.fit(X_train, y_train)\n",
    "\n",
    "print(\"Best Parameters:\", grid_search.best_params_)\n",
    "best_model = grid_search.best_estimator_"
   ]
  },
  {
   "cell_type": "code",
   "execution_count": 117,
   "metadata": {},
   "outputs": [
    {
     "name": "stdout",
     "output_type": "stream",
     "text": [
      "Results:\n",
      "MAE: 76628.18, RMSE: 138039.31, R2 Score: 0.87\n"
     ]
    }
   ],
   "source": [
    "xgb_reg = xgb.XGBRegressor(learning_rate=0.2, max_depth=5, n_estimators=200, subsample=1.0)\n",
    "xgb_reg.fit(X_train, y_train)\n",
    "y_pred = xgb_reg.predict(X_test)\n",
    "\n",
    "evaluation_with_rmse(y_test, y_pred)"
   ]
  },
  {
   "cell_type": "code",
   "execution_count": 118,
   "metadata": {},
   "outputs": [
    {
     "data": {
      "image/png": "[encoded data removed]",
      "text/plain": [
       "<Figure size 1000x600 with 1 Axes>"
      ]
     },
     "metadata": {},
     "output_type": "display_data"
    }
   ],
   "source": [
    "feature_importance = xgb_reg.feature_importances_\n",
    "\n",
    "plt.figure(figsize=(10, 6))\n",
    "plt.barh(X_train.columns, feature_importance, color='royalblue')\n",
    "plt.xlabel(\"Feature Importance\")\n",
    "plt.ylabel(\"Features\")\n",
    "plt.title(\"Feature Importance in XGBoost\")\n",
    "plt.show()\n"
   ]
  },
  {
   "cell_type": "code",
   "execution_count": 119,
   "metadata": {},
   "outputs": [
    {
     "name": "stdout",
     "output_type": "stream",
     "text": [
      "[0.02347714 0.008484   0.16947268 0.00862003 0.01005504 0.23309219\n",
      " 0.01638922 0.32573643 0.01181344 0.00916798 0.03913178 0.05562403\n",
      " 0.04208677 0.0211356  0.01295622 0.0042081  0.00465479 0.00389455]\n"
     ]
    }
   ],
   "source": [
    "print(feature_importance)"
   ]
  },
  {
   "cell_type": "markdown",
   "metadata": {},
   "source": [
    "### 3️⃣ Performance Metrics of Best Model (xgb_reg)\n",
    "\n",
    "| Metric | Value |\n",
    "|---|---|\n",
    "| MAE (Mean Absolute Error) | 76628.18 |\n",
    "| RMSE (Root Mean Squared Error) | 138039.31 |\n",
    "| R² Score | 0.87 |"
   ]
  }
 ],
 "metadata": {
  "kernelspec": {
   "display_name": "venv",
   "language": "python",
   "name": "python3"
  },
  "language_info": {
   "codemirror_mode": {
    "name": "ipython",
    "version": 3
   },
   "file_extension": ".py",
   "mimetype": "text/x-python",
   "name": "python",
   "nbconvert_exporter": "python",
   "pygments_lexer": "ipython3",
   "version": "3.10.6"
  }
 },
 "nbformat": 4,
 "nbformat_minor": 2
}
